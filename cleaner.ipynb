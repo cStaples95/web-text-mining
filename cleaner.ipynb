{
 "cells": [
  {
   "cell_type": "code",
   "execution_count": 28,
   "metadata": {},
   "outputs": [
    {
     "name": "stdout",
     "output_type": "stream",
     "text": [
      "The article currently has 47 sentences/paragraphs.\n"
     ]
    },
    {
     "data": {
      "text/plain": [
       "['Author: James Colgan\\n',\n",
       " 'Date: September 23, 2023\\n',\n",
       " 'Publication: golf.com/news\\n',\n",
       " '\\n',\n",
       " \"Lexi Thompson's Solheim Cup shank wasn't the talk of the golf world on Saturday — but her response to it was.\\n\",\n",
       " 'Getty Images\\n',\n",
       " 'CASARES, Spain — Early in my GOLF.com career, I caught a devastating case of the shanks.\\n',\n",
       " 'It was fall 2021 and I was in Southern California for a video series based around a swing lesson from legendary swing coach Dave Phillips. We hired a videographer and flew in our photographer and two fellow writers for the occasion, taking over the hulking Titleist Performance Institute for a few hours. (The other attendees won’t be named for purposes of protecting the innocent.)\\n',\n",
       " 'After a few minutes of polite conversation, we turned the cameras on and started swinging — which was also the moment I realized I was in for the worst hour of my life. I felt like I swung the club the same way I had for the previous six months of my life, but the result was decidedly not anything I was used to seeing. Instead of my typical gentle hook, I found the most consistent — and deeply horrifying — result of my golfing life: a 70-yard hosel-rocket.\\n',\n",
       " 'The cameras rolled on my disaster for about 30 minutes. My face turned a new shade of magenta. My entire body tensed with dread. My coworkers begged me to figure it out. It was no use. Phillips, a brilliant swing coach whose clientele includes Jon Rahm, was speechless. I could feel him wince with every shot.\\n',\n",
       " 'I remember hitting 50ish consecutive shanks that day before we finally called the whole thing off — though it’s hard to say how my brain’s trauma response affected my memory of the ordeal.\\n',\n",
       " 'Just writing about it makes me want to vomit.\\n',\n",
       " 'I VOLUNTEER THIS MEMORY to remind us all — myself included — that shanks are human.\\n',\n",
       " 'Of golf’s many shin-kicks, none feel more painful than the hosel-adjacent miss, and yet nobody is capable of avoiding them entirely. Tiger dealt with ’em, Jack dealt with ’em, you deal with ’em and I most certainly deal with ’em, too. Hitting a shank is like stubbing your toe — you just hope when it happens you’re somewhere private enough to shed a tear.      \\n',\n",
       " 'On Friday evening at the Solheim Cup, Lexi Thompson experienced a painful reminder of this truth. On the 18th green of her second match of the day, a bruising fourball battle with Leona Maguire and Georgia Hall, Thompson faced a tricky chip shot from a sidehill lie and shanked it. It was likely the most pivotal moment of the tournament to that point — the third shot in a tied match with Thompson needing birdie to keep the Americans alive. It ended in disaster.\\n',\n",
       " 'Oh no Lexi Thompson #SolheimCup2023 pic.twitter.com/PQedImdbJO\\n',\n",
       " 'In the immediate aftermath of the shank, the U.S. side offered an exemplary look at how one should respond to such a public disappointment. Thompson nearly holed her next shot, a brilliant chip from just off the putting surface, then graciously congratulated both of her opponents on a match well won. Off to the side of the green, her teammates quickly rallied to her defense, offering concerned looks and later, genuine consolation.\\n',\n",
       " 'Megan Khang, the 5-foot-nothing soul of this U.S. squad, even found herself working crowd control.\\n',\n",
       " '“Now that’s just rude,” she said, whipping around to chide a snickering Euro fan, who quickly shut his mouth.\\n',\n",
       " 'But the feel-good story only lasted the better part of an hour, until Thompson found herself sitting in the U.S. team’s Friday evening press conference. After fielding a series of softball questions about the quality of her play throughout the day (which, to her credit, had been largely tremendous) and the difficulty of walking 36 holes, Sports Illustrated reporter Alex Miceli was handed the microphone. Finally, he posed the question everyone wanted to hear.\\n',\n",
       " '“Lexi, could you talk about that third shot on 18?” Miceli asked. “There was some question on what you were trying to do and what you actually did do on the third shot. Could you just go through it for us?”\\n',\n",
       " 'Thompson didn’t.\\n',\n",
       " '“I don’t need to comment on that.”\\n',\n",
       " '“Excuse me?” Miceli said.\\n',\n",
       " '“I don’t need to comment on the chip,” she said again, holding her gaze. “It was a bad lie, and I didn’t hit a good chip, but it was pretty much impossible, so…”\\n',\n",
       " 'Quickly, a member of the LPGA’s communications staff swooped in to redirect the conversation, but not before U.S. team captain Stacy Lewis delivered a snipe of her own.\\n',\n",
       " '“That’s a terrible question,” Lewis said.\\n',\n",
       " 'The press conference continued as usual after that moment, but the damage had already been done. Suddenly, the shank was awkward.\\n',\n",
       " \"Confounding answer from Lexi and subsequent reaction from the US side. It was one of the pivotal moments of the entire day and somehow that's off limits? pic.twitter.com/9std3LFlmN \\n\",\n",
       " 'BY THE TIME MORNING BROKE on Saturday in Spain, Thompson’s response was the talk of the golf internet.\\n',\n",
       " 'Social media accounts tied to various members of golf media quickly rallied to Miceli’s defense, criticizing Thompson and Lewis for their response to what they saw as a fair and understandable question. Others watching from home, including Thompson’s former Solheim Cup teammate Jess Korda, saw the situation differently.\\n',\n",
       " '“So sad seeing golf media, yet again, shred Lexi,” Korda tweeted. “It’s easy writing about other people’s mistakes. It’s golf, bad shots happen — give the girl a break. She grows the game more than anyone on tour… And she’s a great player!!”\\n',\n",
       " 'This isn’t the first time this critique has been surfaced from members of the women’s game — that golf media spends too much time preying on the failures of women’s golf — and we’ve heard it before specifically in regard to Thompson, whose career has been marked by major championship heartbreak on a handful of different occasions.\\n',\n",
       " 'That is a complex issue, and one always worth considering. But the truth of this situation is actually far simpler than matters of gender or media bias. The truth is that the persisting awkwardness surrounding the shank exists exclusively because of Lexi’s approach to answering the question.\\n',\n",
       " 'Yes, it would be every bit fair if she entered that press conference upset about the shot, and it is every bit her right to decline to answer any question she’s asked. It is also every bit her captain’s prerogative to feel protective over her players. It’s also fair to point out that bedside manner is important when asking these questions, and while I might not have found any issue with the Miceli’s forthrightness, Thompson and Lewis might have.\\n',\n",
       " 'In any case, though, Korda’s right. It’s golf, and bad shots happen all the time. I’m more than willing to give Lexi a break for hitting an ill-timed shank, as I’m sure the overwhelming majority of golf media is. But it’s important to note that the reason the shank became a talking point (rather than just a relatable mistake in a high-pressure situation) didn’t stem from golf media’s ability to give Lexi a break. It came from her response!\\n',\n",
       " 'Miceli wasn’t acting maliciously; he was doing his job, which at the most basic level is to serve as a proxy for the fan. Any fan watching the Solheim Cup on Friday evening wanted to know what happened with Lexi’s chip, and it would be no less than professional malpractice for those in the room not to ask.\\n',\n",
       " 'Thompson knows this, and so does Lewis. No athlete survives for more than 15 minutes in the public eye without learning the burden of scrutiny that comes with the job. Some face more scrutiny than others and some handle that weight better than others, but no one is afforded the freedom to avoid it entirely. Without scrutiny (and the fandom, investment and commerce it engenders), there is no professional golf in its current form (nor with its current purses).\\n',\n",
       " 'I’m sure that further down the line, Lexi and Lewis will both admit Miceli’s question caught them in a tense, disappointed moment. That their response wasn’t a reflection of their true feelings about the question, but rather the adrenaline of a high-pressure weekend. But for now we only have that moment — and the resulting response.\\n',\n",
       " 'IT’S EASY TO UNDERSTAND WHY this issue turned into a landmine.\\n',\n",
       " 'Women’s golf is underfunded, under-supported and underexposed relative to their male counterparts, which makes the media attention the sport receives significantly more impactful to its success. Good press is good for business, but not all press is good press.\\n',\n",
       " 'In a social media world where misogynistic comments can run unchecked, it’s hardly difficult to get why some female athletes would take negative coverage personally, or why many of them wish for advocacy from golf media.\\n',\n",
       " 'The funny thing is, the vast majority of female pros deserve to be advocated for. On the whole they are more generous with their time, happier to accept accountability for their failures and less fearful of vulnerability than their male counterparts. These are the traits that turn ordinary golfers into role models and fan favorites, and those traits are undoubtedly responsible for some of the gains the women’s game has seen over the last decade.\\n',\n",
       " 'In this era of media distrust, it’s easy to forget the many ways in which media coverage can benefit those being covered. That doesn’t mean the media will always be beneficial, but it sure doesn’t mean they’re inherently corrupt and bad. Those people are often people like me — I’m writing this no more than 20 feet from the Solheim Cup podium — and lord knows I know a thing or two about the shanks.\\n',\n",
       " 'Soon this episode will be but a footnote to an otherwise thrilling Solheim Cup script, a development I’m sure will be welcomed by all parties involved. And when Sunday’s singles matches were announced, Thompson’s name came in the final match of the day, where she’ll face off against Emily Pedersen. As a result, she’ll be a large part of answering the weekend’s biggest question: who hoists the Cup.\\n',\n",
       " 'James Colgan is a news and features editor at GOLF, writing stories for the website and magazine. He manages the Hot Mic, GOLF’s media vertical, and utilizes his on-camera experience across the brand’s platforms. Prior to joining GOLF, James graduated from Syracuse University, during which time he was a caddie scholarship recipient (and astute looper) on Long Island, where he is from. He can be reached at james.colgan@golf.com.\\n',\n",
       " '\\n']"
      ]
     },
     "execution_count": 28,
     "metadata": {},
     "output_type": "execute_result"
    }
   ],
   "source": [
    "from nltk import word_tokenize\n",
    "from nltk.corpus import stopwords\n",
    "from nltk.stem import PorterStemmer\n",
    "from nltk.stem import WordNetLemmatizer\n",
    "import string\n",
    "\n",
    "# Read the file\n",
    "file = open(\"0101_sports.txt\", \"r\")\n",
    "text = file.readlines()\n",
    "file.close()\n",
    "\n",
    "print('The article currently has {} sentences/paragraphs.'.format(len(text)))\n",
    "\n",
    "text\n"
   ]
  },
  {
   "cell_type": "code",
   "execution_count": 29,
   "metadata": {},
   "outputs": [
    {
     "name": "stdout",
     "output_type": "stream",
     "text": [
      "The article currently has 47 sentences/paragraphs.\n"
     ]
    },
    {
     "data": {
      "text/plain": [
       "['author james colgan',\n",
       " 'date september 23, 2023',\n",
       " 'publication golf.com/news',\n",
       " '',\n",
       " \"lexi thompson's solheim cup shank wasn't the talk of the golf world on saturday — but her response to it was.\",\n",
       " 'getty images',\n",
       " 'casares, spain — early in my golf.com career, i caught a devastating case of the shanks.',\n",
       " 'it was fall 2021 and i was in southern california for a video series based around a swing lesson from legendary swing coach dave phillips. we hired a videographer and flew in our photographer and two fellow writers for the occasion, taking over the hulking titleist performance institute for a few hours. (the other attendees won’t be named for purposes of protecting the innocent.)',\n",
       " 'after a few minutes of polite conversation, we turned the cameras on and started swinging — which was also the moment i realized i was in for the worst hour of my life. i felt like i swung the club the same way i had for the previous six months of my life, but the result was decidedly not anything i was used to seeing. instead of my typical gentle hook, i found the most consistent — and deeply horrifying — result of my golfing life a 70yard hoselrocket.',\n",
       " 'the cameras rolled on my disaster for about 30 minutes. my face turned a new shade of magenta. my entire body tensed with dread. my coworkers begged me to figure it out. it was no use. phillips, a brilliant swing coach whose clientele includes jon rahm, was speechless. i could feel him wince with every shot.',\n",
       " 'i remember hitting 50ish consecutive shanks that day before we finally called the whole thing off — though it’s hard to say how my brain’s trauma response affected my memory of the ordeal.',\n",
       " 'just writing about it makes me want to vomit.',\n",
       " 'i volunteer this memory to remind us all — myself included — that shanks are human.',\n",
       " 'of golf’s many shinkicks, none feel more painful than the hoseladjacent miss, and yet nobody is capable of avoiding them entirely. tiger dealt with ’em, jack dealt with ’em, you deal with ’em and i most certainly deal with ’em, too. hitting a shank is like stubbing your toe — you just hope when it happens you’re somewhere private enough to shed a tear.      ',\n",
       " 'on friday evening at the solheim cup, lexi thompson experienced a painful reminder of this truth. on the 18th green of her second match of the day, a bruising fourball battle with leona maguire and georgia hall, thompson faced a tricky chip shot from a sidehill lie and shanked it. it was likely the most pivotal moment of the tournament to that point — the third shot in a tied match with thompson needing birdie to keep the americans alive. it ended in disaster.',\n",
       " 'oh no lexi thompson #solheimcup2023 pic.twitter.com/pqedimdbjo',\n",
       " 'in the immediate aftermath of the shank, the u.s. side offered an exemplary look at how one should respond to such a public disappointment. thompson nearly holed her next shot, a brilliant chip from just off the putting surface, then graciously congratulated both of her opponents on a match well won. off to the side of the green, her teammates quickly rallied to her defense, offering concerned looks and later, genuine consolation.',\n",
       " 'megan khang, the 5footnothing soul of this u.s. squad, even found herself working crowd control.',\n",
       " '“now that’s just rude,” she said, whipping around to chide a snickering euro fan, who quickly shut his mouth.',\n",
       " 'but the feelgood story only lasted the better part of an hour, until thompson found herself sitting in the u.s. team’s friday evening press conference. after fielding a series of softball questions about the quality of her play throughout the day (which, to her credit, had been largely tremendous) and the difficulty of walking 36 holes, sports illustrated reporter alex miceli was handed the microphone. finally, he posed the question everyone wanted to hear.',\n",
       " '“lexi, could you talk about that third shot on 18?” miceli asked. “there was some question on what you were trying to do and what you actually did do on the third shot. could you just go through it for us?”',\n",
       " 'thompson didn’t.',\n",
       " '“i don’t need to comment on that.”',\n",
       " '“excuse me?” miceli said.',\n",
       " '“i don’t need to comment on the chip,” she said again, holding her gaze. “it was a bad lie, and i didn’t hit a good chip, but it was pretty much impossible, so…”',\n",
       " 'quickly, a member of the lpga’s communications staff swooped in to redirect the conversation, but not before u.s. team captain stacy lewis delivered a snipe of her own.',\n",
       " '“that’s a terrible question,” lewis said.',\n",
       " 'the press conference continued as usual after that moment, but the damage had already been done. suddenly, the shank was awkward.',\n",
       " \"confounding answer from lexi and subsequent reaction from the us side. it was one of the pivotal moments of the entire day and somehow that's off limits? pic.twitter.com/9std3lflmn \",\n",
       " 'by the time morning broke on saturday in spain, thompson’s response was the talk of the golf internet.',\n",
       " 'social media accounts tied to various members of golf media quickly rallied to miceli’s defense, criticizing thompson and lewis for their response to what they saw as a fair and understandable question. others watching from home, including thompson’s former solheim cup teammate jess korda, saw the situation differently.',\n",
       " '“so sad seeing golf media, yet again, shred lexi,” korda tweeted. “it’s easy writing about other people’s mistakes. it’s golf, bad shots happen — give the girl a break. she grows the game more than anyone on tour… and she’s a great player!!”',\n",
       " 'this isn’t the first time this critique has been surfaced from members of the women’s game — that golf media spends too much time preying on the failures of women’s golf — and we’ve heard it before specifically in regard to thompson, whose career has been marked by major championship heartbreak on a handful of different occasions.',\n",
       " 'that is a complex issue, and one always worth considering. but the truth of this situation is actually far simpler than matters of gender or media bias. the truth is that the persisting awkwardness surrounding the shank exists exclusively because of lexi’s approach to answering the question.',\n",
       " 'yes, it would be every bit fair if she entered that press conference upset about the shot, and it is every bit her right to decline to answer any question she’s asked. it is also every bit her captain’s prerogative to feel protective over her players. it’s also fair to point out that bedside manner is important when asking these questions, and while i might not have found any issue with the miceli’s forthrightness, thompson and lewis might have.',\n",
       " 'in any case, though, korda’s right. it’s golf, and bad shots happen all the time. i’m more than willing to give lexi a break for hitting an illtimed shank, as i’m sure the overwhelming majority of golf media is. but it’s important to note that the reason the shank became a talking point (rather than just a relatable mistake in a highpressure situation) didn’t stem from golf media’s ability to give lexi a break. it came from her response!',\n",
       " 'miceli wasn’t acting maliciously; he was doing his job, which at the most basic level is to serve as a proxy for the fan. any fan watching the solheim cup on friday evening wanted to know what happened with lexi’s chip, and it would be no less than professional malpractice for those in the room not to ask.',\n",
       " 'thompson knows this, and so does lewis. no athlete survives for more than 15 minutes in the public eye without learning the burden of scrutiny that comes with the job. some face more scrutiny than others and some handle that weight better than others, but no one is afforded the freedom to avoid it entirely. without scrutiny (and the fandom, investment and commerce it engenders), there is no professional golf in its current form (nor with its current purses).',\n",
       " 'i’m sure that further down the line, lexi and lewis will both admit miceli’s question caught them in a tense, disappointed moment. that their response wasn’t a reflection of their true feelings about the question, but rather the adrenaline of a highpressure weekend. but for now we only have that moment — and the resulting response.',\n",
       " 'it’s easy to understand why this issue turned into a landmine.',\n",
       " 'women’s golf is underfunded, undersupported and underexposed relative to their male counterparts, which makes the media attention the sport receives significantly more impactful to its success. good press is good for business, but not all press is good press.',\n",
       " 'in a social media world where misogynistic comments can run unchecked, it’s hardly difficult to get why some female athletes would take negative coverage personally, or why many of them wish for advocacy from golf media.',\n",
       " 'the funny thing is, the vast majority of female pros deserve to be advocated for. on the whole they are more generous with their time, happier to accept accountability for their failures and less fearful of vulnerability than their male counterparts. these are the traits that turn ordinary golfers into role models and fan favorites, and those traits are undoubtedly responsible for some of the gains the women’s game has seen over the last decade.',\n",
       " 'in this era of media distrust, it’s easy to forget the many ways in which media coverage can benefit those being covered. that doesn’t mean the media will always be beneficial, but it sure doesn’t mean they’re inherently corrupt and bad. those people are often people like me — i’m writing this no more than 20 feet from the solheim cup podium — and lord knows i know a thing or two about the shanks.',\n",
       " 'soon this episode will be but a footnote to an otherwise thrilling solheim cup script, a development i’m sure will be welcomed by all parties involved. and when sunday’s singles matches were announced, thompson’s name came in the final match of the day, where she’ll face off against emily pedersen. as a result, she’ll be a large part of answering the weekend’s biggest question who hoists the cup.',\n",
       " 'james colgan is a news and features editor at golf, writing stories for the website and magazine. he manages the hot mic, golf’s media vertical, and utilizes his oncamera experience across the brand’s platforms. prior to joining golf, james graduated from syracuse university, during which time he was a caddie scholarship recipient (and astute looper) on long island, where he is from. he can be reached at james.colgan@golf.com.',\n",
       " '']"
      ]
     },
     "execution_count": 29,
     "metadata": {},
     "output_type": "execute_result"
    }
   ],
   "source": [
    "# Git rid of garabage characters\n",
    "text = [i.replace('-', '') for i in text]\n",
    "text = [i.replace('\\n', '') for i in text]\n",
    "text = [i.replace(':', '') for i in text]\n",
    "text = [i.lower() for i in text]\n",
    "\n",
    "print('The article currently has {} sentences/paragraphs.'.format(len(text)))\n",
    "\n",
    "text\n"
   ]
  },
  {
   "cell_type": "code",
   "execution_count": 30,
   "metadata": {},
   "outputs": [
    {
     "name": "stdout",
     "output_type": "stream",
     "text": [
      "The article currently has 10232 sentences/paragraphs.\n"
     ]
    },
    {
     "data": {
      "text/plain": [
       "\"author james colgan date september 23, 2023 publication golf.com/news  lexi thompson's solheim cup shank wasn't the talk of the golf world on saturday — but her response to it was. getty images casares, spain — early in my golf.com career, i caught a devastating case of the shanks. it was fall 2021 and i was in southern california for a video series based around a swing lesson from legendary swing coach dave phillips. we hired a videographer and flew in our photographer and two fellow writers for the occasion, taking over the hulking titleist performance institute for a few hours. (the other attendees won’t be named for purposes of protecting the innocent.) after a few minutes of polite conversation, we turned the cameras on and started swinging — which was also the moment i realized i was in for the worst hour of my life. i felt like i swung the club the same way i had for the previous six months of my life, but the result was decidedly not anything i was used to seeing. instead of my typical gentle hook, i found the most consistent — and deeply horrifying — result of my golfing life a 70yard hoselrocket. the cameras rolled on my disaster for about 30 minutes. my face turned a new shade of magenta. my entire body tensed with dread. my coworkers begged me to figure it out. it was no use. phillips, a brilliant swing coach whose clientele includes jon rahm, was speechless. i could feel him wince with every shot. i remember hitting 50ish consecutive shanks that day before we finally called the whole thing off — though it’s hard to say how my brain’s trauma response affected my memory of the ordeal. just writing about it makes me want to vomit. i volunteer this memory to remind us all — myself included — that shanks are human. of golf’s many shinkicks, none feel more painful than the hoseladjacent miss, and yet nobody is capable of avoiding them entirely. tiger dealt with ’em, jack dealt with ’em, you deal with ’em and i most certainly deal with ’em, too. hitting a shank is like stubbing your toe — you just hope when it happens you’re somewhere private enough to shed a tear.       on friday evening at the solheim cup, lexi thompson experienced a painful reminder of this truth. on the 18th green of her second match of the day, a bruising fourball battle with leona maguire and georgia hall, thompson faced a tricky chip shot from a sidehill lie and shanked it. it was likely the most pivotal moment of the tournament to that point — the third shot in a tied match with thompson needing birdie to keep the americans alive. it ended in disaster. oh no lexi thompson #solheimcup2023 pic.twitter.com/pqedimdbjo in the immediate aftermath of the shank, the u.s. side offered an exemplary look at how one should respond to such a public disappointment. thompson nearly holed her next shot, a brilliant chip from just off the putting surface, then graciously congratulated both of her opponents on a match well won. off to the side of the green, her teammates quickly rallied to her defense, offering concerned looks and later, genuine consolation. megan khang, the 5footnothing soul of this u.s. squad, even found herself working crowd control. “now that’s just rude,” she said, whipping around to chide a snickering euro fan, who quickly shut his mouth. but the feelgood story only lasted the better part of an hour, until thompson found herself sitting in the u.s. team’s friday evening press conference. after fielding a series of softball questions about the quality of her play throughout the day (which, to her credit, had been largely tremendous) and the difficulty of walking 36 holes, sports illustrated reporter alex miceli was handed the microphone. finally, he posed the question everyone wanted to hear. “lexi, could you talk about that third shot on 18?” miceli asked. “there was some question on what you were trying to do and what you actually did do on the third shot. could you just go through it for us?” thompson didn’t. “i don’t need to comment on that.” “excuse me?” miceli said. “i don’t need to comment on the chip,” she said again, holding her gaze. “it was a bad lie, and i didn’t hit a good chip, but it was pretty much impossible, so…” quickly, a member of the lpga’s communications staff swooped in to redirect the conversation, but not before u.s. team captain stacy lewis delivered a snipe of her own. “that’s a terrible question,” lewis said. the press conference continued as usual after that moment, but the damage had already been done. suddenly, the shank was awkward. confounding answer from lexi and subsequent reaction from the us side. it was one of the pivotal moments of the entire day and somehow that's off limits? pic.twitter.com/9std3lflmn  by the time morning broke on saturday in spain, thompson’s response was the talk of the golf internet. social media accounts tied to various members of golf media quickly rallied to miceli’s defense, criticizing thompson and lewis for their response to what they saw as a fair and understandable question. others watching from home, including thompson’s former solheim cup teammate jess korda, saw the situation differently. “so sad seeing golf media, yet again, shred lexi,” korda tweeted. “it’s easy writing about other people’s mistakes. it’s golf, bad shots happen — give the girl a break. she grows the game more than anyone on tour… and she’s a great player!!” this isn’t the first time this critique has been surfaced from members of the women’s game — that golf media spends too much time preying on the failures of women’s golf — and we’ve heard it before specifically in regard to thompson, whose career has been marked by major championship heartbreak on a handful of different occasions. that is a complex issue, and one always worth considering. but the truth of this situation is actually far simpler than matters of gender or media bias. the truth is that the persisting awkwardness surrounding the shank exists exclusively because of lexi’s approach to answering the question. yes, it would be every bit fair if she entered that press conference upset about the shot, and it is every bit her right to decline to answer any question she’s asked. it is also every bit her captain’s prerogative to feel protective over her players. it’s also fair to point out that bedside manner is important when asking these questions, and while i might not have found any issue with the miceli’s forthrightness, thompson and lewis might have. in any case, though, korda’s right. it’s golf, and bad shots happen all the time. i’m more than willing to give lexi a break for hitting an illtimed shank, as i’m sure the overwhelming majority of golf media is. but it’s important to note that the reason the shank became a talking point (rather than just a relatable mistake in a highpressure situation) didn’t stem from golf media’s ability to give lexi a break. it came from her response! miceli wasn’t acting maliciously; he was doing his job, which at the most basic level is to serve as a proxy for the fan. any fan watching the solheim cup on friday evening wanted to know what happened with lexi’s chip, and it would be no less than professional malpractice for those in the room not to ask. thompson knows this, and so does lewis. no athlete survives for more than 15 minutes in the public eye without learning the burden of scrutiny that comes with the job. some face more scrutiny than others and some handle that weight better than others, but no one is afforded the freedom to avoid it entirely. without scrutiny (and the fandom, investment and commerce it engenders), there is no professional golf in its current form (nor with its current purses). i’m sure that further down the line, lexi and lewis will both admit miceli’s question caught them in a tense, disappointed moment. that their response wasn’t a reflection of their true feelings about the question, but rather the adrenaline of a highpressure weekend. but for now we only have that moment — and the resulting response. it’s easy to understand why this issue turned into a landmine. women’s golf is underfunded, undersupported and underexposed relative to their male counterparts, which makes the media attention the sport receives significantly more impactful to its success. good press is good for business, but not all press is good press. in a social media world where misogynistic comments can run unchecked, it’s hardly difficult to get why some female athletes would take negative coverage personally, or why many of them wish for advocacy from golf media. the funny thing is, the vast majority of female pros deserve to be advocated for. on the whole they are more generous with their time, happier to accept accountability for their failures and less fearful of vulnerability than their male counterparts. these are the traits that turn ordinary golfers into role models and fan favorites, and those traits are undoubtedly responsible for some of the gains the women’s game has seen over the last decade. in this era of media distrust, it’s easy to forget the many ways in which media coverage can benefit those being covered. that doesn’t mean the media will always be beneficial, but it sure doesn’t mean they’re inherently corrupt and bad. those people are often people like me — i’m writing this no more than 20 feet from the solheim cup podium — and lord knows i know a thing or two about the shanks. soon this episode will be but a footnote to an otherwise thrilling solheim cup script, a development i’m sure will be welcomed by all parties involved. and when sunday’s singles matches were announced, thompson’s name came in the final match of the day, where she’ll face off against emily pedersen. as a result, she’ll be a large part of answering the weekend’s biggest question who hoists the cup. james colgan is a news and features editor at golf, writing stories for the website and magazine. he manages the hot mic, golf’s media vertical, and utilizes his oncamera experience across the brand’s platforms. prior to joining golf, james graduated from syracuse university, during which time he was a caddie scholarship recipient (and astute looper) on long island, where he is from. he can be reached at james.colgan@golf.com. \""
      ]
     },
     "execution_count": 30,
     "metadata": {},
     "output_type": "execute_result"
    }
   ],
   "source": [
    "# Make text into a single string\n",
    "text = ' '.join(text)\n",
    "\n",
    "print('The article currently has {} sentences/paragraphs.'.format(len(text)))\n",
    "\n",
    "updated_example_article = ''.join([str(char) for char in text if char in string.printable])\n",
    "text"
   ]
  }
 ],
 "metadata": {
  "kernelspec": {
   "display_name": "Python 3",
   "language": "python",
   "name": "python3"
  },
  "language_info": {
   "codemirror_mode": {
    "name": "ipython",
    "version": 3
   },
   "file_extension": ".py",
   "mimetype": "text/x-python",
   "name": "python",
   "nbconvert_exporter": "python",
   "pygments_lexer": "ipython3",
   "version": "3.11.5"
  },
  "orig_nbformat": 4
 },
 "nbformat": 4,
 "nbformat_minor": 2
}
