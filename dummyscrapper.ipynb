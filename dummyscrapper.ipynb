{
 "cells": [
  {
   "cell_type": "code",
   "execution_count": 2,
   "id": "257973d4",
   "metadata": {},
   "outputs": [
    {
     "name": "stdout",
     "output_type": "stream",
     "text": [
      "<Response [200]>\n"
     ]
    }
   ],
   "source": [
    "import urllib\n",
    "import requests\n",
    "import re\n",
    "\n",
    "url = \"https://www.nature.com/articles/d41586-023-02975-x\"\n",
    "\n",
    "from bs4 import BeautifulSoup as bs\n",
    "\n",
    "page = requests.get(url)\n",
    "soup = bs(page.text, 'html.parser')\n",
    "\n",
    "print(page)\n"
   ]
  },
  {
   "cell_type": "code",
   "execution_count": 29,
   "id": "a2279d14",
   "metadata": {
    "scrolled": false
   },
   "outputs": [
    {
     "name": "stdout",
     "output_type": "stream",
     "text": [
      "\n",
      "\n",
      "\n",
      "\n",
      "\n",
      "\n",
      "Caribbean box jellyfish (Tripedalia cystophora) can learn to associate a particular visual cue with a bumping sensation.Credit: Jan Bielecki\n",
      "\n",
      "\n",
      "A tiny jellyfish has, for the first time, demonstrated a mighty cognitive capacity — the ability to learn by association. Although it has no central brain, the finger-tip-sized Caribbean box jellyfish (Tripedalia cystophora) can be trained to associate the sensation of bumping into something with a visual cue, and to use the information to avoid future collisions.The experiment shows a type of learning called associative learning — made famous by neurologist Ivan Pavlov’s experiments with dogs in the late-nineteenth century — in which an animal learns to associate one stimulus with another through training. “Associative learning is now considered solid evidence of cognitive capacity,” says Ken Cheng, an animal behaviour researcher at Macquarie University in Sydney, Australia. Many other animals — from humans to birds, octopuses and even insects — have the ability to learn by association.“The box jellyfish finding is very important because it shows that a centralized nervous system, or brain, is not necessary for associative learning,” says Pamela Lyon, a cognitive biologist at the University of Adelaide, Australia.“It’s super,” says Gaëlle Botton-Amiot, a neurobiologist at the University of Fribourg in Switzerland, who published a study in March1 showing that the sea anemone Nematostella vectensis is also capable of associative learning. Sea anemones and jellyfish both belong to a group of organisms known as cnidarians, and Botton-Amiot thinks that “this ability to do associative learning is present across probably the entire cnidarian tree”.Natural testThe sea anemone experiment by Botton-Amiot and her colleagues involved training the animals to associate a bright light with an electric shock. But these stimuli aren’t found in the anemones’ natural environment, and therefore the observed learning might not be biologically meaningful, says Jan Bielecki, an electrophysiologist at Kiel University in Germany who co-authored the jellyfish research, published on 22 September in Current Biology2. “We were very, very careful to make this as natural for [the jellyfish] as possible,” he says.In the wild, T. cystophora forage for tiny crustaceans between the roots of mangroves. To mimic this environment, Bielecki’s colleagues at the University of Copenhagen placed the box jellies in cylindrical tanks that had either black and white or grey and white vertical stripes on the walls. To the jellyfish, the dark stripes looked like mangrove roots in either clear or murky water.In the ‘murky water’ tanks, the jellyfish bumped into the wall because their visual system couldn’t detect the grey stripes very clearly. But after a few minutes — and bumps — they learnt to adjust their behaviour, pulsing rapidly to swim away from the wall when they got too close. “It was only when they had a combination of visual stimulation and mechanical stimulation that they would actually learn something” says Bielecki.He adds that he was unsurprised by the results. “This is just a matter of basic survival,” he says. When the water is murky, jellyfish can’t detect obstacles clearly with their simple eyes, so they need to learn to avoid them to prevent injury. “They can’t just keep bumping into obstacles on turbid days,” Bielecki says.“There are good lessons to learn from this study,” says Cheng. “If we pick some arbitrary task, the animal may not learn. And that just may be because you’re trying to do the wrong thing rather than the animal not having the capacity.”“It’s great that they chose something that is really biologically relevant,” says Botton-Amiot.Physiology probedTo better understand the mechanisms at play, Bielecki dissected out individual rhopalia — small ‘eye-brain’ complexes in the jellyfish, each containing six rudimentary eyes plus nerve centres, called pacemakers, that control the animals’ swimming pulses.With the isolated rhopalia facing a projector screen, Bielecki could precisely record electrical activity in the nerves when the visual system perceived a visual cue — grey bars moving slowly from one side of the screen to the other. A mild electric shock to the motor neurons mimicked the bump on a jellyfish’s body. Bielecki recorded the nerve activity of the swim pacemakers that caused the rapid swim pulses in the jellies.Just like the living box jellies in tanks, excised rhopalia could be trained to associate an electrical ‘bump’ with the appearance of a grey bar. After five minutes of training with the grey bar and the ‘bump’, the rhopalia responded to the visual cue alone by increasing their swim-pulse frequency. This confirms that the rhopalia are “where learning happens”, says Bielecki.How T. cystophora process and coordinate the learning in each of their four rhopalia remains to be understood, says Botton-Amiot. “If you have four centres like this, how is this coordinated?” Whether the creatures retain the learning — and for how long — would also be interesting questions to investigate, she adds.“There’s a lot more to unpack about what’s going on in this learning,” says Cheng. Identifying the genes and biochemical pathways involved could help scientists to trace the evolutionary origins of learning, as could a better understanding of which organisms are unable to learn. “We actually need the negative data”, he says, that scientists might be shelving. He suggests that researchers should consider whether animals without nerves are capable of learning. “The more distant [evolutionary] branches we look at, the better we have an idea of when associative learning would have evolved.”Bielecki has more practical goals in mind. He is hoping to adapt findings about how jellyfish learn at the cellular level to non-biological systems, so that robots can learn to recognize patterns. “That’s the future of the jellyfish brain,” he says. “We want to stick them on a chip.”\n",
      "\n"
     ]
    }
   ],
   "source": [
    "\n",
    "body = soup.find(class_='c-article-body main-content')\n",
    "\n",
    "print(body.text)\n"
   ]
  },
  {
   "cell_type": "code",
   "execution_count": 30,
   "id": "0b6144b7",
   "metadata": {},
   "outputs": [
    {
     "name": "stdout",
     "output_type": "stream",
     "text": [
      "Author name is\n",
      "\n",
      "                Dyani Lewis\n"
     ]
    }
   ],
   "source": [
    "author = soup.find('li', class_='c-article-author-list__item')\n",
    "print(\"Author name is\" + \"\\n\" + author.text)"
   ]
  },
  {
   "cell_type": "code",
   "execution_count": 28,
   "id": "c3bb9286",
   "metadata": {},
   "outputs": [
    {
     "name": "stdout",
     "output_type": "stream",
     "text": [
      "22 September 2023\n"
     ]
    }
   ],
   "source": [
    "date_published = soup.find_all('li', class_='c-article-identifiers__item')\n",
    "print(date_published[1].text)"
   ]
  },
  {
   "cell_type": "code",
   "execution_count": 5,
   "id": "68818ac0",
   "metadata": {
    "scrolled": true
   },
   "outputs": [
    {
     "name": "stdout",
     "output_type": "stream",
     "text": [
      "\n",
      "\n",
      "\n",
      "\n",
      "\n",
      "\n",
      "Climate protests are increasingly common, as the world heads towards its self-defined heating limit.Credit: Alain Pitton/NurPhoto via Getty\n",
      "\n",
      "\n",
      "Earth is hurtling towards its average temperature rising by 1.5 °C above pre-industrial levels. One climate model suggests that the likelihood of reaching that threshold in 2023 is now 55%.The 1.5 °C figure was a preferred maximum warming limit set by the United Nations in the landmark 2015 Paris agreement on climate change. Climate scientists use different models to make predictions. In Breaching the Paris limit requires a long-term trend of warming of 1.5 °C or more, but some research groups tracking average annual temperatures in isolation are already predicting 1.5 °C of warming this year. In May, a World Meteorological Organization report said that there was a 66% chance that the average annual temperature would breach 1.5 °C of warming between 2023 and 2027.In its August 2023 monthly update, Berkeley Earth — a non-profit climate-monitoring organization — has put the chance of 2023 being on average 1.5 °C warmer at 55%. This is up from a chance of less than 1% predicted by the team before the start of the year, and the 20% chance estimated using July’s figures. “So this year has played out in a very unusual fashion,” says Robert Rohde, Berkeley Earth’s lead scientist in Zurich, Switzerland.“I will admit to being surprised,” says Rohde. “I was surprised at how warm August came in.”\n",
      "\n",
      "\n",
      "\n",
      "\n",
      "Source: Berkeley Earth\n",
      "\n",
      "\n",
      "Joeri Rogelj, a climate science and policy researcher at Imperial College London, cautions that the figures do not mean that Earth is heating faster than previously thought. “There is absolutely no indication that the underlying warming trend, which is very worrying in its own right, has significantly accelerated.”Hot summerRohde was expecting that things would cool down a little after an extremely hot July (see ‘Heat rising’). However, factors, including the strengthening of the ocean-warming event called El Niño, have contributed to the temperature increase. “It’s pretty startling to be at this position now where we may get to 1.5 °C” in 2023, says Rohde. “We thought it was very unlikely that 1.5 °C will arrive this year.”\n",
      "\n",
      "\n",
      "\n",
      "\n",
      "Source: Berkeley Earth\n",
      "\n",
      "\n",
      "He attributes some of the extraordinarily high temperatures to phenomena that are not directly linked to human activity. “One of the very significant ones is that there was unusually low dust coming off the Sahara in the early part of the season,” he says. This allowed the Atlantic Ocean to heat to higher-than-usual temperatures.“It’s really about how El Niño has played out, which is not easy to predict,” says Rogelj.The US National Oceanic and Atmospheric Administration (NOAA) also tracks temperature changes closely. Its analysis does not show that 2023 will reach an average of 1.5 °C of warming. “Our analysis broadly agrees with Berkeley in that Aug 2023 was the warmest Aug in our record (by a long shot) and that the odds of 2023 being the warmest year since 1850 exceed 90%,” says climate scientist Russell Vose, at NOAA’s National Climatic Data Center in Asheville, North Carolina. “Our Aug 2023 anomaly is 1.25 °C, but that is relative to the twentieth-century average, whereas Berkeley uses 1850–1900. That accounts for some of the difference between our numbers.”Rohde keeps close tabs on other organizations that make similar predictions, including NOAA and NASA. “Based on where we’re tracking, there’s not a lot of difference between our analysis and other groups. So it may well be at the end of the year, some of us are just above 1.5 and some of us are just below,” he says.Rohde’s colleague at Berkeley Earth, Zeke Hausfather, analysed the difference between four major groups that are tracking global temperatures. Each group uses slightly different values for Earth’s historical temperature average. For each model to show 2023 as being a 1.5 °C above average, Hausfather looked at how much warmer than average the rest of the year would need to be. For the NOAA dataset, they estimate temperatures would need to be an “implausible ~ 2 C” higher. For NASA’s GISTEMP data set that figure is 1.9 °C and for the ERA5 data, it is 1.8 °C.“The exact number of 1.5 is less important than the fact that this will be again the highest annual temperature on record,” says Rogelj. The Berkeley data set shows an estimated global mean temperature for just this year (see ‘Nearing the threshold’), whereas the Paris agreement target was clarified in 2021 as being the middle of a 20-year period during which the average global temperature hits 1.5 °C above the average temperature between 1850 and 1900. “This data doesn’t mean that we have breached the lower 1.5 °C safety limit of the Paris agreement, because that will apply to the long term,” says Rogelj.\n",
      "\n"
     ]
    }
   ],
   "source": [
    "url = \"https://www.nature.com/articles/d41586-023-02995-7\"\n",
    "page = requests.get(url)\n",
    "soup = bs(page.text, 'html.parser')\n",
    "\n",
    "\n",
    "body = soup.find(class_ = 'c-article-body main-content')\n",
    "print(body.text)"
   ]
  },
  {
   "cell_type": "code",
   "execution_count": 7,
   "id": "f2dc1199",
   "metadata": {},
   "outputs": [
    {
     "name": "stdout",
     "output_type": "stream",
     "text": [
      "\n",
      "                Katharine Sanderson\n"
     ]
    }
   ],
   "source": [
    "author = soup.find('li', class_='c-article-author-list__item')\n",
    "print(author.text)"
   ]
  },
  {
   "cell_type": "code",
   "execution_count": 9,
   "id": "72c2dce5",
   "metadata": {},
   "outputs": [
    {
     "name": "stdout",
     "output_type": "stream",
     "text": [
      "22 September 2023\n"
     ]
    }
   ],
   "source": [
    "date_published = soup.find_all('li', class_='c-article-identifiers__item')\n",
    "print(date_published[1].text)"
   ]
  },
  {
   "cell_type": "code",
   "execution_count": 12,
   "id": "94dd999b",
   "metadata": {
    "scrolled": false
   },
   "outputs": [
    {
     "name": "stdout",
     "output_type": "stream",
     "text": [
      "<Response [200]>\n",
      "\n",
      "LOS ALAMOS, N.M. (AP) — Los Alamos was the perfect spot for the U.S. government’s top-secret Manhattan Project.Almost overnight, the ranching enclave on a remote plateau in northern New Mexico was transformed into a makeshift home for scientists, engineers and young soldiers racing to develop the world’s first atomic bomb. Dirt roads were hastily built and temporary housing came in the form of huts and tents as the outpost’s population ballooned.The community is facing growing pains again, 80 years later, as Los Alamos National Laboratory takes part in the nation’s most ambitious nuclear weapons effort since World War II. The mission calls for modernizing the arsenal with droves of new workers producing plutonium cores — key components for nuclear weapons.\n",
      "\n",
      "Some 3,300 workers have been hired in the last two years, with the workforce now topping more than 17,270. Close to half of them commute to work from elsewhere in northern New Mexico and from as far away as Albuquerque, helping to nearly double Los Alamos’ population during the work week.\n",
      "\n",
      "\n",
      "\n",
      "\n",
      "\n",
      "\n",
      "                Other news\n",
      "            \n",
      "\n",
      "\n",
      "\n",
      "\n",
      "\n",
      "\n",
      "\n",
      "\n",
      "\n",
      "\n",
      "\n",
      "\n",
      "\n",
      "\n",
      "\n",
      "\n",
      "This is what it’s like to maintain the US nuclear arsenal\n",
      "\n",
      "\n",
      "\n",
      "\n",
      "\n",
      "\n",
      "\n",
      "\n",
      "\n",
      "\n",
      "\n",
      "\n",
      "\n",
      "\n",
      "\n",
      "\n",
      "\n",
      "\n",
      "Inside the delicate art of maintaining America’s aging nuclear weapons\n",
      "\n",
      "\n",
      "\n",
      "\n",
      "\n",
      "\n",
      "\n",
      "\n",
      "\n",
      "\n",
      "\n",
      "\n",
      "\n",
      "\n",
      "\n",
      "\n",
      "\n",
      "\n",
      "New Mexico lifts debt-based suspensions of driver’s licenses for 100,000 residents\n",
      "\n",
      "\n",
      "\n",
      "\n",
      "\n",
      "\n",
      "\n",
      "\n",
      "While advancements in technology have changed the way work is done at Los Alamos, some things remain the same for this company town. The secrecy and unwavering sense of duty that were woven into the community’s fabric during the 1940s remain.\n",
      "\n",
      "\n",
      "\n",
      "James Owen, the associate lab director for weapons engineering, has spent more than 25 years working in the nuclear weapons program.“What we do is meaningful. This isn’t a job, it’s a vocation and there’s a sense of contribution that comes with that,” Owen said in an interview with The Associated Press following a rare tour of the facility where workers are preparing to piece together plutonium cores by hand. “The downside is we can’t tell people about all the cool things we do here.”While the priority at Los Alamos is maintaining the nuclear stockpile, the lab also conducts a range of national security work and research in diverse fields of space exploration, supercomputing, renewable energy and efforts to limit global threats from disease and cyberattacks.\n",
      "\n",
      "The welcome sign on the way into town reads: “Where discoveries are made.”The headline grabber, though, is the production of plutonium cores.Lab managers and employees defend the massive undertaking as necessary in the face of global political instability. With most people in Los Alamos connected to the lab, opposition is rare.But watchdog groups and non-proliferation advocates question the need for new weapons and the growing price tag.“For some time Los Alamosans have seemed numbed out, very involved in superficial activities but there is a very big hole in the middle where thoughtful discourse might live,” Greg Mello, director of the Los Alamos Study Group, a nonprofit that has been challenging the lab over safety, security and budget concerns, said in an email.\n",
      "\n",
      "Town officials are grappling with the effects of expansion at the lab, much like the military generals who scrambled to erect the secret city on the hill in 1943.The labor market is stressed, housing is in short supply and traffic is growing. There are few options for expansion in a town bordered by the national forest, a national park and Native American land, leaving county officials to reconsider zoning rules to allow developers to be more creative with infill projects.Still, officials acknowledge it will take time for those changes to catch up with demand and for prices to normalize in what is already one of the most affluent counties in the U.S. With the lab being the largest employer, Los Alamos also boasts the highest per-capita levels of educational attainment with many residents holding master’s degrees and Ph.Ds.Owen is originally from Peñasco, a Hispanic village in neighboring Taos County. His fascination with science was sparked by a high school field trip where he learned about explosions and implosions. It wasn’t long before he landed a summer job at the lab and went on to earn engineering degrees that helped him move up through the ranks.Los Alamos taps into regional schools as a generational pipeline. Grandfathers work as machinists. Mothers solder key components. And daughters become experts at tracking radiation.\n",
      "\n",
      "Alexandra Martinez, 40, grew up in nearby Chimayo and is the latest in her family to work at Los Alamos. She chuckles when asked if she was born into it.“That’s what I wanted — the ability to do something great,” said Martinez, a radiation control technician who is stationed at PF-4, the highly classified complex that is being transformed into a more modern plutonium pit factory.She must pass through fencing topped with concertina wire and checkpoints manned by armed guards. The layers of security are more sophisticated than those from the Manhattan Project era, when all incoming and outgoing mail was censored and telephone calls were monitored.Los Alamos became an open city when the security gates came down in 1957. Still, many parts — including historic sites related to the Manhattan Project — remain off limits. Tourists have to settle for selfies near the town square with the bronze statue of physicist J. Robert Oppenheimer.Across the street, rangers at the Manhattan Project National Historical Park visitor center answer questions about where scientists lived and where parties and town halls were held. A chalkboard hangs in the corner, covered in yellow sticky notes left by visitors. Some of the hand-written notes touch on the complicated legacy left by the creation of nuclear weapons.\n",
      "\n",
      "It’s a conversation that was reignited with the release of Christopher Nolan’s “Oppenheimer.” The film put the spotlight on Los Alamos and its history, prompting more people to visit over the summer.The attention also boosted an ongoing effort to expand the federal government’s radiation compensation program to cover people in several western states, including residents in southern New Mexico where the Trinity Test of the first atomic bomb was conducted in 1945.Aside from pressing questions about the morality of nuclear weapons, watchdogs argue the federal government’s modernization effort already has outpaced spending predictions and is years behind schedule. Independent government analysts issued a report earlier this month that outlined the growing budget and schedule delays.For lab managers, the task has not been easy. Modern health and safety requirements mean new constraints Manhattan Project bosses never had to contemplate. And yet, just like their predecessors, Owen said officials feel a sense of urgency amid intensifying global threats.“What’s being asked is that we all need to do better in a faster amount of time,” he said.\n",
      "\n"
     ]
    }
   ],
   "source": [
    "url = \"https://apnews.com/article/los-alamos-national-laboratory-nuclear-weapons-culture-028c5acd03e4124485a042fab6601e68\"\n",
    "page = requests.get(url)\n",
    "print(page)\n",
    "soup = bs(page.text, 'lxml')\n",
    "\n",
    "body = soup.find(class_= 'RichTextStoryBody RichTextBody')\n",
    "print(body.text)\n"
   ]
  },
  {
   "cell_type": "code",
   "execution_count": 13,
   "id": "992e3af3",
   "metadata": {},
   "outputs": [
    {
     "name": "stdout",
     "output_type": "stream",
     "text": [
      "By SUSAN MONTOYA BRYAN\n"
     ]
    }
   ],
   "source": [
    "author = soup.find(class_= 'Page-authors')\n",
    "print(author.text)"
   ]
  },
  {
   "cell_type": "code",
   "execution_count": 40,
   "id": "397aa209",
   "metadata": {},
   "outputs": [],
   "source": [
    "template_tag = soup.find('template')\n",
    "\n",
    "if template_tag:\n",
    "    template_content = bs(str(template_tag.contents[0]), 'lxml')\n",
    "    span_tag = template_content.find('span', {'data-date': ''})\n",
    "    if span_tag:\n",
    "        print(span_tag.text)"
   ]
  },
  {
   "cell_type": "code",
   "execution_count": null,
   "id": "f109b8e3",
   "metadata": {},
   "outputs": [],
   "source": []
  }
 ],
 "metadata": {
  "kernelspec": {
   "display_name": "Python 3 (ipykernel)",
   "language": "python",
   "name": "python3"
  },
  "language_info": {
   "codemirror_mode": {
    "name": "ipython",
    "version": 3
   },
   "file_extension": ".py",
   "mimetype": "text/x-python",
   "name": "python",
   "nbconvert_exporter": "python",
   "pygments_lexer": "ipython3",
   "version": "3.11.4"
  }
 },
 "nbformat": 4,
 "nbformat_minor": 5
}
