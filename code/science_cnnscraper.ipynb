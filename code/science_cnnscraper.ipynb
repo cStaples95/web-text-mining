{
 "cells": [
  {
   "cell_type": "code",
   "execution_count": 2,
   "metadata": {},
   "outputs": [],
   "source": [
    "from bs4 import BeautifulSoup\n",
    "import requests\n",
    "\n",
    "# Credit to rj\n",
    "\n",
    "#setup\n",
    "base = 'https://cnn.com/'\n",
    "links = []\n",
    "headlines = []\n",
    "\n",
    "#set target genre\n",
    "url = 'https://www.cnn.com/us/space-science'\n",
    "page = requests.get(url)\n",
    "soup = BeautifulSoup(page.content, 'lxml')\n",
    "counter = 1\n",
    "\n",
    "#scrape for links   \n",
    "for link in soup.find_all('a', {\"class\" : \"container__link container_grid-4__link\"})[:32]:\n",
    "    #cnn uses link format twice (for headline hyperlink and thumbnail hyperlink), so to avoid scraping same uri twice\n",
    "    if \"videos\" not in link.get('href'):\n",
    "        if not (counter % 2 == 0):\n",
    "            links.append(base[:-1]+link.get('href'))\n",
    "        counter += 1\n",
    "\n",
    "counter = 1\n",
    "#scrape for headlines\n",
    "for link in links:\n",
    "    #setup soup\n",
    "    url = link\n",
    "    page = requests.get(url)\n",
    "    soup = BeautifulSoup(page.content,'lxml')\n",
    "    if \"videos\" not in link:\n",
    "        for headline in soup.find_all('h1', {\"class\":\"headline__text inline-placeholder\"}):\n",
    "            headlines.append(\"{}\".format(headline.text))\n",
    "    \n",
    "\n",
    "counter = 1\n",
    "#scrape 12 science links for info\n",
    "for link in links[:12]:\n",
    "    #setup soup\n",
    "    url = link\n",
    "    page = requests.get(url)\n",
    "    soup = BeautifulSoup(page.content,'lxml')\n",
    "\n",
    "    #visual separator\n",
    "    if \"videos\" not in link:\n",
    "        if counter<10: \n",
    "            file = open(\"science_040\"+str(counter)+\".txt\",'w')\n",
    "        else:\n",
    "            file = open(\"science_04\"+str(counter)+\".txt\",'w')\n",
    "        file.write(\"\\n**********************************************************\\n\")\n",
    "        file.write(link + '\\n')\n",
    "        file.write('\\n'+str(counter) +\") \" + headlines[counter-1])\n",
    "        file.write('\\n')\n",
    "\n",
    "        #print scraped info\n",
    "        for location in soup.find_all('div', {\"class\":\"byline__names\"}):\n",
    "            #CNN is based in Atlanta, Georgia. All articles are published by CNN\n",
    "            file.write(location.text.strip() + \" Atlanta, Georgia\")\n",
    "        for date in soup.find_all('div', {\"class\" : \"timestamp\"}):\n",
    "            file.write(\"\\n\" + date.text.strip() + '\\n')\n",
    "        for content in soup.find_all('p', {\"class\" : \"paragraph\"}):\n",
    "            file.write(content.text.strip())\n",
    "        file.close()\n",
    "        counter += 1\n"
   ]
  }
 ],
 "metadata": {
  "kernelspec": {
   "display_name": "Python 3.11.4 64-bit ('anaconda3': virtualenv)",
   "name": "python3114jvsc74a57bd0e30f58353c0181c56cdcf393d9164478557b8b57fa2008dafe2a4c479e2a21a0"
  },
  "language_info": {
   "codemirror_mode": {
    "name": "ipython",
    "version": 3
   },
   "file_extension": ".py",
   "mimetype": "text/x-python",
   "name": "python",
   "nbconvert_exporter": "python",
   "pygments_lexer": "ipython3",
   "version": "3.11.4"
  },
  "metadata": {
   "interpreter": {
    "hash": "e30f58353c0181c56cdcf393d9164478557b8b57fa2008dafe2a4c479e2a21a0"
   }
  },
  "orig_nbformat": 2
 },
 "nbformat": 4,
 "nbformat_minor": 2
}
